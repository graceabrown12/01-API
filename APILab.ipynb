{
  "nbformat": 4,
  "nbformat_minor": 0,
  "metadata": {
    "colab": {
      "provenance": [],
      "authorship_tag": "ABX9TyPvZAqIuff2ngCp3P2WWAdb",
      "include_colab_link": true
    },
    "kernelspec": {
      "name": "python3",
      "display_name": "Python 3"
    },
    "language_info": {
      "name": "python"
    }
  },
  "cells": [
    {
      "cell_type": "markdown",
      "metadata": {
        "id": "view-in-github",
        "colab_type": "text"
      },
      "source": [
        "<a href=\"https://colab.research.google.com/github/graceabrown12/01-API/blob/main/APILab.ipynb\" target=\"_parent\"><img src=\"https://colab.research.google.com/assets/colab-badge.svg\" alt=\"Open In Colab\"/></a>"
      ]
    },
    {
      "cell_type": "code",
      "execution_count": 35,
      "metadata": {
        "id": "0PCmq05M0K1R"
      },
      "outputs": [],
      "source": [
        "import json\n",
        "import pandas as pd\n",
        "import json\n",
        "import requests"
      ]
    },
    {
      "cell_type": "code",
      "source": [
        "#get stock from the user\n",
        "stock=input()"
      ],
      "metadata": {
        "colab": {
          "base_uri": "https://localhost:8080/"
        },
        "id": "mlQPfQ6V0dcT",
        "outputId": "98dbbd58-b05e-46d7-9e97-41fb43760ee0"
      },
      "execution_count": 36,
      "outputs": [
        {
          "name": "stdout",
          "output_type": "stream",
          "text": [
            "MSFT\n"
          ]
        }
      ]
    },
    {
      "cell_type": "code",
      "source": [
        "print(\"The Stock we will research is:\" + stock)"
      ],
      "metadata": {
        "colab": {
          "base_uri": "https://localhost:8080/"
        },
        "id": "H1fbTwec0iUK",
        "outputId": "e05fad66-0344-41ae-999b-b2ac4803a7d3"
      },
      "execution_count": 37,
      "outputs": [
        {
          "output_type": "stream",
          "name": "stdout",
          "text": [
            "The Stock we will research is:MSFT\n"
          ]
        }
      ]
    },
    {
      "cell_type": "code",
      "source": [
        "import json\n",
        "import pandas as pd\n",
        "import json\n",
        "import requests\n",
        "\n",
        "apikey=\"XYZ\"\n",
        "\n",
        "url = \"https://yfapi.net/v6/finance/quote\"\n",
        "\n",
        "querystring = {\"symbols\":stock}\n",
        "\n",
        "headers = {\n",
        "    'x-api-key': apikey\n",
        "    }\n",
        "\n",
        "response = requests.request(\"GET\", url, headers=headers, params=querystring)\n",
        "\n",
        "print(response.text)"
      ],
      "metadata": {
        "colab": {
          "base_uri": "https://localhost:8080/"
        },
        "id": "mRGfcmkI0ljp",
        "outputId": "79febedd-59d2-4c19-9345-fcf0400d5241"
      },
      "execution_count": 38,
      "outputs": [
        {
          "output_type": "stream",
          "name": "stdout",
          "text": [
            "{\"quoteResponse\":{\"result\":[{\"language\":\"en-US\",\"region\":\"US\",\"quoteType\":\"EQUITY\",\"typeDisp\":\"Equity\",\"quoteSourceName\":\"Nasdaq Real Time Price\",\"triggerable\":true,\"customPriceAlertConfidence\":\"HIGH\",\"hasPrePostMarketData\":true,\"firstTradeDateMilliseconds\":511108200000,\"priceHint\":2,\"currency\":\"USD\",\"exchange\":\"NMS\",\"shortName\":\"Microsoft Corporation\",\"longName\":\"Microsoft Corporation\",\"messageBoardId\":\"finmb_21835\",\"exchangeTimezoneName\":\"America/New_York\",\"exchangeTimezoneShortName\":\"EDT\",\"gmtOffSetMilliseconds\":-14400000,\"market\":\"us_market\",\"esgPopulated\":false,\"postMarketChangePercent\":-0.12148709,\"postMarketTime\":1727473576,\"postMarketPrice\":427.5,\"postMarketChange\":-0.519989,\"regularMarketChange\":-3.2900085,\"regularMarketTime\":1727467201,\"regularMarketDayHigh\":431.83,\"regularMarketDayRange\":\"427.47 - 431.83\",\"regularMarketDayLow\":427.47,\"regularMarketVolume\":13787448,\"regularMarketPreviousClose\":431.31,\"bid\":427.88,\"ask\":428.02,\"bidSize\":1,\"askSize\":1,\"fullExchangeName\":\"NasdaqGS\",\"financialCurrency\":\"USD\",\"regularMarketOpen\":431.52,\"averageDailyVolume3Month\":20093822,\"averageDailyVolume10Day\":20435080,\"fiftyTwoWeekLowChange\":116.81,\"fiftyTwoWeekLowChangePercent\":0.37534142,\"fiftyTwoWeekRange\":\"311.21 - 468.35\",\"fiftyTwoWeekHighChange\":-40.330017,\"fiftyTwoWeekHighChangePercent\":-0.08611085,\"fiftyTwoWeekLow\":311.21,\"fiftyTwoWeekHigh\":468.35,\"fiftyTwoWeekChangePercent\":36.598576,\"dividendDate\":1733961600,\"earningsTimestamp\":1722369600,\"earningsTimestampStart\":1729594740,\"earningsTimestampEnd\":1730116800,\"earningsCallTimestampStart\":1722375000,\"earningsCallTimestampEnd\":1722375000,\"isEarningsDateEstimate\":true,\"trailingAnnualDividendRate\":3.0,\"trailingPE\":36.211506,\"dividendRate\":3.32,\"trailingAnnualDividendYield\":0.0069555542,\"dividendYield\":0.77,\"epsTrailingTwelveMonths\":11.82,\"epsForward\":15.21,\"epsCurrentYear\":13.07,\"priceEpsCurrentYear\":32.74828,\"sharesOutstanding\":7433039872,\"bookValue\":36.115,\"fiftyDayAverage\":420.1572,\"fiftyDayAverageChange\":7.862793,\"fiftyDayAverageChangePercent\":0.01871393,\"twoHundredDayAverage\":415.1057,\"twoHundredDayAverageChange\":12.914276,\"twoHundredDayAverageChangePercent\":0.031110812,\"marketCap\":3181489684480,\"forwardPE\":28.140696,\"priceToBook\":11.851584,\"sourceInterval\":15,\"exchangeDataDelayedBy\":0,\"averageAnalystRating\":\"1.7 - Buy\",\"tradeable\":false,\"cryptoTradeable\":false,\"regularMarketChangePercent\":-0.7627944,\"regularMarketPrice\":428.02,\"marketState\":\"POST\",\"displayName\":\"Microsoft\",\"symbol\":\"MSFT\"}],\"error\":null}}\n"
          ]
        }
      ]
    },
    {
      "cell_type": "code",
      "source": [
        "#print the company name and price\n",
        "stock_json = response.json()\n",
        "\n",
        "# Check if the 'result' list is not empty and if 'longName' key exists\n",
        "if stock_json['quoteResponse']['result'] and 'longName' in stock_json['quoteResponse']['result'][0]:\n",
        "    print(stock_json['quoteResponse']['result'][0][\"longName\"] + \" Price:$\" + str(stock_json['quoteResponse']['result'][0][\"regularMarketPrice\"]))\n",
        "else:\n",
        "    # Handle the case when 'result' is empty or 'longName' is missing\n",
        "    print(\"Stock data not found or 'longName' is missing. Please check the stock symbol or the API response.\")"
      ],
      "metadata": {
        "colab": {
          "base_uri": "https://localhost:8080/"
        },
        "id": "UB9cUgq70veG",
        "outputId": "d1c1ade2-086b-45c7-ac0e-c7c86a2d880f"
      },
      "execution_count": 39,
      "outputs": [
        {
          "output_type": "stream",
          "name": "stdout",
          "text": [
            "Microsoft Corporation Price:$428.02\n"
          ]
        }
      ]
    },
    {
      "cell_type": "code",
      "source": [
        "# Define stocks variable as a list\n",
        "stocks = [\"Apple\", \"Microsoft\"]\n",
        "\n",
        "for stock in stocks:\n",
        "    stock = stock.strip()\n",
        "    querystring = {\"symbols\": stock}\n",
        "\n",
        "    response = requests.request(\"GET\", url, headers=headers, params=querystring)\n",
        "\n",
        "    stock_json = response.json()\n",
        "\n",
        "    # Check if the 'result' list is not empty\n",
        "    if stock_json['quoteResponse']['result']:\n",
        "        # Check if 'longName' key exists before accessing it\n",
        "        if 'longName' in stock_json['quoteResponse']['result'][0]:\n",
        "            print(stock_json['quoteResponse']['result'][0][\"longName\"] + \" Price:$\" + str(stock_json['quoteResponse']['result'][0][\"regularMarketPrice\"]))\n",
        "        else:\n",
        "            print(f\"Stock data for {stock} does not include 'longName'.\")\n",
        "    else:\n",
        "        # Handle the case when 'result' is empty (e.g., invalid stock symbol)\n",
        "        print(\"Stock data not found. Please check the stock symbol.\")"
      ],
      "metadata": {
        "colab": {
          "base_uri": "https://localhost:8080/"
        },
        "id": "kmggZKcSaUbr",
        "outputId": "88223fd4-b676-4616-9719-0cc44f28c24e"
      },
      "execution_count": 33,
      "outputs": [
        {
          "output_type": "stream",
          "name": "stdout",
          "text": [
            "Stock data not found. Please check the stock symbol.\n",
            "Stock data for Microsoft does not include 'longName'.\n"
          ]
        }
      ]
    }
  ]
}